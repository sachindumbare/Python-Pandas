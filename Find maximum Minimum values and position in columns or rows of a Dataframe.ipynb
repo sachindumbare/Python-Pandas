{
 "cells": [
  {
   "cell_type": "code",
   "execution_count": 6,
   "metadata": {},
   "outputs": [],
   "source": [
    "import numpy as np\n",
    "import pandas as pd"
   ]
  },
  {
   "cell_type": "markdown",
   "metadata": {},
   "source": [
    "Python’s Pandas Library provides a member function in Dataframe to find the maximum value along the axis\n",
    "\n",
    "**DataFrame.max()**"
   ]
  },
  {
   "cell_type": "markdown",
   "metadata": {},
   "source": [
    "DataFrame.max(axis=None, skipna=None, level=None, numeric_only=None, **kwargs)"
   ]
  },
  {
   "cell_type": "markdown",
   "metadata": {},
   "source": [
    "Important Arguments:<br>\n",
    "* axis : Axis along which maximumn elements will be searched. For along index it’s 0 whereas along columns it’s 1<br>\n",
    "* skipna : (bool) If NaN or NULL to be skipped . Default is True i.e. if not provided it will be skipped.<br>"
   ]
  },
  {
   "cell_type": "code",
   "execution_count": 7,
   "metadata": {},
   "outputs": [],
   "source": [
    "# List of Tuples\n",
    "matrix = [(22, 16, 23),\n",
    "(33, np.NaN, 11),\n",
    "(44, 34, 11),\n",
    "(55, 35, np.NaN),\n",
    "(66, 36, 13)]\n",
    "# Create a DataFrame object\n",
    "dfObj = pd.DataFrame(matrix, index=list('abcde'), columns=list('xyz'))"
   ]
  },
  {
   "cell_type": "code",
   "execution_count": 9,
   "metadata": {},
   "outputs": [
    {
     "data": {
      "text/html": [
       "<div>\n",
       "<style scoped>\n",
       "    .dataframe tbody tr th:only-of-type {\n",
       "        vertical-align: middle;\n",
       "    }\n",
       "\n",
       "    .dataframe tbody tr th {\n",
       "        vertical-align: top;\n",
       "    }\n",
       "\n",
       "    .dataframe thead th {\n",
       "        text-align: right;\n",
       "    }\n",
       "</style>\n",
       "<table border=\"1\" class=\"dataframe\">\n",
       "  <thead>\n",
       "    <tr style=\"text-align: right;\">\n",
       "      <th></th>\n",
       "      <th>x</th>\n",
       "      <th>y</th>\n",
       "      <th>z</th>\n",
       "    </tr>\n",
       "  </thead>\n",
       "  <tbody>\n",
       "    <tr>\n",
       "      <td>a</td>\n",
       "      <td>22</td>\n",
       "      <td>16.0</td>\n",
       "      <td>23.0</td>\n",
       "    </tr>\n",
       "    <tr>\n",
       "      <td>b</td>\n",
       "      <td>33</td>\n",
       "      <td>NaN</td>\n",
       "      <td>11.0</td>\n",
       "    </tr>\n",
       "    <tr>\n",
       "      <td>c</td>\n",
       "      <td>44</td>\n",
       "      <td>34.0</td>\n",
       "      <td>11.0</td>\n",
       "    </tr>\n",
       "    <tr>\n",
       "      <td>d</td>\n",
       "      <td>55</td>\n",
       "      <td>35.0</td>\n",
       "      <td>NaN</td>\n",
       "    </tr>\n",
       "    <tr>\n",
       "      <td>e</td>\n",
       "      <td>66</td>\n",
       "      <td>36.0</td>\n",
       "      <td>13.0</td>\n",
       "    </tr>\n",
       "  </tbody>\n",
       "</table>\n",
       "</div>"
      ],
      "text/plain": [
       "    x     y     z\n",
       "a  22  16.0  23.0\n",
       "b  33   NaN  11.0\n",
       "c  44  34.0  11.0\n",
       "d  55  35.0   NaN\n",
       "e  66  36.0  13.0"
      ]
     },
     "execution_count": 9,
     "metadata": {},
     "output_type": "execute_result"
    }
   ],
   "source": [
    "dfObj"
   ]
  },
  {
   "cell_type": "markdown",
   "metadata": {},
   "source": [
    "### Get maximum values in every row & column of the Dataframe\n",
    "##### Get maximum values of every column\n",
    "To find maximum value of every column in DataFrame just call the max() member function with DataFrame object without any argument i.e."
   ]
  },
  {
   "cell_type": "code",
   "execution_count": 10,
   "metadata": {},
   "outputs": [
    {
     "name": "stdout",
     "output_type": "stream",
     "text": [
      "Maximum value in each column : \n",
      "x    66.0\n",
      "y    36.0\n",
      "z    23.0\n",
      "dtype: float64\n"
     ]
    }
   ],
   "source": [
    "# Get a series containing maximum value of each column\n",
    "maxValuesObj = dfObj.max()\n",
    "print('Maximum value in each column : ')\n",
    "print(maxValuesObj)"
   ]
  },
  {
   "cell_type": "markdown",
   "metadata": {},
   "source": [
    "##### Get maximum values of every row\n",
    "To find maximum value of every row in DataFrame just call the max() member function with DataFrame object with argument axis=1 i.e."
   ]
  },
  {
   "cell_type": "code",
   "execution_count": 11,
   "metadata": {},
   "outputs": [
    {
     "name": "stdout",
     "output_type": "stream",
     "text": [
      "Maximum value in each row : \n",
      "a    23.0\n",
      "b    33.0\n",
      "c    44.0\n",
      "d    55.0\n",
      "e    66.0\n",
      "dtype: float64\n"
     ]
    }
   ],
   "source": [
    "# Get a series containing maximum value of each row\n",
    "maxValuesObj = dfObj.max(axis=1)\n",
    "print('Maximum value in each row : ')\n",
    "print(maxValuesObj)"
   ]
  },
  {
   "cell_type": "markdown",
   "metadata": {},
   "source": [
    "#### Get maximum values of every column without skipping NaN"
   ]
  },
  {
   "cell_type": "code",
   "execution_count": 12,
   "metadata": {},
   "outputs": [
    {
     "name": "stdout",
     "output_type": "stream",
     "text": [
      "Maximum value in each column including NaN: \n",
      "x    66.0\n",
      "y     NaN\n",
      "z     NaN\n",
      "dtype: float64\n"
     ]
    }
   ],
   "source": [
    "# Get a series containing maximum value of each column without skipping NaN\n",
    "maxValuesObj = dfObj.max(skipna=False)\n",
    "print('Maximum value in each column including NaN: ')\n",
    "print(maxValuesObj)"
   ]
  },
  {
   "cell_type": "markdown",
   "metadata": {},
   "source": [
    "##### Get maximum values of a single column or selected columns"
   ]
  },
  {
   "cell_type": "code",
   "execution_count": 13,
   "metadata": {},
   "outputs": [
    {
     "name": "stdout",
     "output_type": "stream",
     "text": [
      "Maximum value in column 'y':  36.0\n"
     ]
    }
   ],
   "source": [
    "# Get maximum value of a single column 'y'\n",
    "maxValue = dfObj['y'].max()\n",
    "print(\"Maximum value in column 'y': \" , maxValue)"
   ]
  },
  {
   "cell_type": "code",
   "execution_count": 15,
   "metadata": {},
   "outputs": [
    {
     "name": "stdout",
     "output_type": "stream",
     "text": [
      "Maximum value in column 'y' & 'z': \n",
      "y    36.0\n",
      "z    23.0\n",
      "dtype: float64\n"
     ]
    }
   ],
   "source": [
    "# Get maximum value of a selected columns 'y' and 'z'\n",
    "maxValue = dfObj[['y', 'z']].max()\n",
    "print(\"Maximum value in column 'y' & 'z': \")\n",
    "print(maxValue)"
   ]
  },
  {
   "cell_type": "markdown",
   "metadata": {},
   "source": [
    "### Get row index label or position of maximum values of every column\n",
    "\n",
    "### DataFrame.idxmax()"
   ]
  },
  {
   "cell_type": "markdown",
   "metadata": {},
   "source": [
    "We got the maximum value of each column or row, but what if we want to know the exact index position in every column or row where this maximum value exists ? To get the index of maximum value of elements in row and columns, pandas library provides a function i.e."
   ]
  },
  {
   "cell_type": "markdown",
   "metadata": {},
   "source": [
    "DataFrame.idxmax(axis=0, skipna=True)"
   ]
  },
  {
   "cell_type": "markdown",
   "metadata": {},
   "source": [
    "### Get row index label of Maximum value in every column"
   ]
  },
  {
   "cell_type": "code",
   "execution_count": 17,
   "metadata": {},
   "outputs": [
    {
     "name": "stdout",
     "output_type": "stream",
     "text": [
      "Max values of columns are at row index position :\n",
      "x    e\n",
      "y    e\n",
      "z    a\n",
      "dtype: object\n"
     ]
    }
   ],
   "source": [
    "# get the index position of max values in every column\n",
    "maxValueIndexObj = dfObj.idxmax()\n",
    "print(\"Max values of columns are at row index position :\")\n",
    "print(maxValueIndexObj)"
   ]
  },
  {
   "cell_type": "markdown",
   "metadata": {},
   "source": [
    "### Get Column names of Maximum value in every row"
   ]
  },
  {
   "cell_type": "code",
   "execution_count": 18,
   "metadata": {},
   "outputs": [
    {
     "name": "stdout",
     "output_type": "stream",
     "text": [
      "Max values of row are at following columns :\n",
      "a    z\n",
      "b    x\n",
      "c    x\n",
      "d    x\n",
      "e    x\n",
      "dtype: object\n"
     ]
    }
   ],
   "source": [
    "# get the column name of max values in every row\n",
    "maxValueIndexObj = dfObj.idxmax(axis=1)\n",
    "print(\"Max values of row are at following columns :\")\n",
    "print(maxValueIndexObj)"
   ]
  },
  {
   "cell_type": "code",
   "execution_count": 22,
   "metadata": {},
   "outputs": [
    {
     "name": "stdout",
     "output_type": "stream",
     "text": [
      "Original Dataframe Contents :\n",
      "    x     y     z\n",
      "a  22  16.0  23.0\n",
      "b  33   NaN  11.0\n",
      "c  44  34.0  11.0\n",
      "d  55  35.0   NaN\n",
      "e  66  36.0  13.0\n",
      "***** Get Maximum value in every column ***** \n",
      "Maximum value in each column : \n",
      "x    66.0\n",
      "y    36.0\n",
      "z    23.0\n",
      "dtype: float64\n",
      "***** Get Maximum value in every row ***** \n",
      "Maximum value in each row : \n",
      "a    23.0\n",
      "b    33.0\n",
      "c    44.0\n",
      "d    55.0\n",
      "e    66.0\n",
      "dtype: float64\n",
      "***** Get Maximum value in every column without skipping NaN ***** \n",
      "Maximum value in each column including NaN: \n",
      "x    66.0\n",
      "y     NaN\n",
      "z     NaN\n",
      "dtype: float64\n",
      "***** Get Maximum value in a single column ***** \n",
      "Maximum value in column 'y':  36.0\n",
      "Maximum value in column 'y':  36.0\n",
      "***** Get Maximum value in certain columns only ***** \n",
      "Maximum value in column 'y' & 'z': \n",
      "y    36.0\n",
      "z    23.0\n",
      "dtype: float64\n",
      "***** Get row index label of Maximum value in every column *****\n",
      "Max values of columns are at row index position :\n",
      "x    e\n",
      "y    e\n",
      "z    a\n",
      "dtype: object\n",
      "***** Get Column name of Maximum value in every row *****\n",
      "Max values of row are at following columns :\n",
      "a    z\n",
      "b    x\n",
      "c    x\n",
      "d    x\n",
      "e    x\n",
      "dtype: object\n"
     ]
    }
   ],
   "source": [
    "##summary \n",
    "\n",
    "\n",
    "import pandas as pd\n",
    "import numpy as np\n",
    "def main():\n",
    "    # List of Tuples\n",
    "    matrix = [(22, 16, 23),\n",
    "              (33, np.NaN, 11),\n",
    "              (44, 34, 11),\n",
    "              (55, 35, np.NaN),\n",
    "              (66, 36, 13)\n",
    "             ]\n",
    "# Create a DataFrame object\n",
    "    dfObj = pd.DataFrame(matrix, index=list('abcde'), columns=list('xyz'))\n",
    "    print('Original Dataframe Contents :')\n",
    "    print(dfObj)\n",
    "    print('***** Get Maximum value in every column ***** ')\n",
    "# Get a series containing maximum value of each column\n",
    "    maxValuesObj = dfObj.max()\n",
    "    print('Maximum value in each column : ')\n",
    "    print(maxValuesObj)\n",
    "    print('***** Get Maximum value in every row ***** ')\n",
    "# Get a series containing maximum value of each row\n",
    "    maxValuesObj = dfObj.max(axis=1)\n",
    "    print('Maximum value in each row : ')\n",
    "    print(maxValuesObj)\n",
    "    print('***** Get Maximum value in every column without skipping NaN ***** ')\n",
    "# Get a series containing maximum value of each column without skipping NaN\n",
    "    maxValuesObj = dfObj.max(skipna=False)\n",
    "    print('Maximum value in each column including NaN: ')\n",
    "    print(maxValuesObj)\n",
    "    print('***** Get Maximum value in a single column ***** ')\n",
    "    # Get maximum value of a single column 'y'\n",
    "    maxValue = dfObj['y'].max()\n",
    "    print(\"Maximum value in column 'y': \" , maxValue)\n",
    "    # Get maximum value of a single column 'y'\n",
    "    maxValue = dfObj.max()['y']\n",
    "    print(\"Maximum value in column 'y': \" , maxValue)\n",
    "    print('***** Get Maximum value in certain columns only ***** ')\n",
    "    # Get maximum value of a single column 'y'\n",
    "    maxValue = dfObj[['y', 'z']].max()\n",
    "    print(\"Maximum value in column 'y' & 'z': \")\n",
    "    print(maxValue)\n",
    "    print('***** Get row index label of Maximum value in every column *****')\n",
    "    # get the index position of max values in every column\n",
    "    maxValueIndexObj = dfObj.idxmax()\n",
    "    print(\"Max values of columns are at row index position :\")\n",
    "    print(maxValueIndexObj)\n",
    "    print('***** Get Column name of Maximum value in every row *****')\n",
    "    # get the column name of max values in every row\n",
    "    maxValueIndexObj = dfObj.idxmax(axis=1)\n",
    "    print(\"Max values of row are at following columns :\")\n",
    "    print(maxValueIndexObj)\n",
    "if __name__ == '__main__':\n",
    "    main()"
   ]
  }
 ],
 "metadata": {
  "kernelspec": {
   "display_name": "Python 3",
   "language": "python",
   "name": "python3"
  },
  "language_info": {
   "codemirror_mode": {
    "name": "ipython",
    "version": 3
   },
   "file_extension": ".py",
   "mimetype": "text/x-python",
   "name": "python",
   "nbconvert_exporter": "python",
   "pygments_lexer": "ipython3",
   "version": "3.7.4"
  }
 },
 "nbformat": 4,
 "nbformat_minor": 2
}
